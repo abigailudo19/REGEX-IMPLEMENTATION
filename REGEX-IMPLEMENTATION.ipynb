{
 "cells": [
  {
   "cell_type": "code",
   "execution_count": 12,
   "metadata": {},
   "outputs": [
    {
     "data": {
      "text/plain": [
       "<_sre.SRE_Match object; span=(0, 5), match='tiger'>"
      ]
     },
     "execution_count": 12,
     "metadata": {},
     "output_type": "execute_result"
    }
   ],
   "source": [
    "import re\n",
    "## re.match\n",
    "# match is good for finding strings at the beginning of sentences \n",
    "string = \"tiger is the national animal of india\"\n",
    "pattern = \"tiger\"\n",
    "mo = re.match(pattern,string)\n",
    "mo"
   ]
  },
  {
   "cell_type": "code",
   "execution_count": 13,
   "metadata": {},
   "outputs": [
    {
     "name": "stdout",
     "output_type": "stream",
     "text": [
      "None\n"
     ]
    }
   ],
   "source": [
    "## re.match\n",
    "string = \"tiger is the national animal of india\"\n",
    "pattern2 = \"lion\"\n",
    "no = re.match(pattern2,string)\n",
    "print(no)\n",
    "#NO out put because lion is not present"
   ]
  },
  {
   "cell_type": "code",
   "execution_count": 14,
   "metadata": {},
   "outputs": [
    {
     "name": "stdout",
     "output_type": "stream",
     "text": [
      "<_sre.SRE_Match object; span=(13, 21), match='national'>\n"
     ]
    }
   ],
   "source": [
    "## re.search\n",
    "#search is good for finding strings anywhere in the sentence \n",
    "string = \"tiger is the national animal of india\"\n",
    "pattern = \"national\"\n",
    "oo = re.search(pattern,string)\n",
    "print(oo)"
   ]
  },
  {
   "cell_type": "code",
   "execution_count": 15,
   "metadata": {},
   "outputs": [
    {
     "name": "stdout",
     "output_type": "stream",
     "text": [
      "national\n"
     ]
    }
   ],
   "source": [
    "## re.search\n",
    "#to print exactly what we have print .group inside o\n",
    "string = \"tiger is the national animal of india\"\n",
    "pattern = \"national\"\n",
    "oo = re.search(pattern,string)\n",
    "print(oo.group(0))"
   ]
  },
  {
   "cell_type": "code",
   "execution_count": 16,
   "metadata": {},
   "outputs": [
    {
     "name": "stdout",
     "output_type": "stream",
     "text": [
      "['national', 'national']\n"
     ]
    }
   ],
   "source": [
    "## re.findall\n",
    "# best used if you have more than one occurence of a pattern\n",
    "# also good for extraction\n",
    "\n",
    "string = \"tiger is the national animal of india and national sports is hockey\"\n",
    "pattern = \"national\"\n",
    "po = re.findall(pattern,string)\n",
    "print(po)"
   ]
  },
  {
   "cell_type": "code",
   "execution_count": 19,
   "metadata": {},
   "outputs": [
    {
     "name": "stdout",
     "output_type": "stream",
     "text": [
      "13\n",
      "42\n"
     ]
    }
   ],
   "source": [
    "## re.finditer\n",
    "# used to find where the pattern is present in the string\n",
    "string = \"tiger is the national animal of india and national sports is hockey\"\n",
    "pattern = \"national\"\n",
    "\n",
    "qo = re.finditer(pattern,string)\n",
    "for m in qo:\n",
    "    print(m.start())  # doing m.start would tell you where these patterns are present in the string\n"
   ]
  },
  {
   "cell_type": "code",
   "execution_count": 20,
   "metadata": {},
   "outputs": [
    {
     "name": "stdout",
     "output_type": "stream",
     "text": [
      "['12-09-1992', '15-12-1999']\n"
     ]
    }
   ],
   "source": [
    "# \"\\d\" is used to match all numbers present in text \n",
    "# \"\\d{2}s-\\d{2}s-\\d{4}s\" what is this ???? find out \n",
    "string = \"Ron was born on  12-09-1992 and he was admitted to school on 15-12-1999\"\n",
    "pattern = \"\\d{2}-\\d{2}-\\d{4}\"   \n",
    "# the above regular expression means 2 numbers together then a hyphen or - another 2 numbers together \n",
    "#then another hyphen or - and then 4 numbers together which discribes the date. \n",
    "\n",
    "mo = re.findall(pattern,string)\n",
    "print(mo)"
   ]
  },
  {
   "cell_type": "code",
   "execution_count": 27,
   "metadata": {},
   "outputs": [
    {
     "name": "stdout",
     "output_type": "stream",
     "text": [
      "Ron was born on  Monday and he was admitted to school on Monday\n"
     ]
    }
   ],
   "source": [
    "## re.sub\n",
    "# if we need to replace any particular pattern in a string use re.sub function \n",
    "# for example we need to replace all the date like strings  present in the string with a key word such as Monday \n",
    "string = \"Ron was born on  12-09-1992 and he was admitted to school on 15-12-1999\"\n",
    "pattern = \"\\d{2}-\\d{2}-\\d{4}\"\n",
    "print(re.sub(pattern,\"Monday\",string))\n"
   ]
  },
  {
   "cell_type": "code",
   "execution_count": 25,
   "metadata": {},
   "outputs": [
    {
     "name": "stdout",
     "output_type": "stream",
     "text": [
      "this is going to end in the coming year I can't wait for the coming year\n"
     ]
    }
   ],
   "source": [
    "skip =\"true\"\n",
    "a = \"this is going to end in 2019 I can't wait for the coming year\" \n",
    "result = re.sub(\"\\d{4}\", \"the coming year\", a) \n",
    "\n",
    "print (result)"
   ]
  },
  {
   "cell_type": "code",
   "execution_count": 28,
   "metadata": {},
   "outputs": [
    {
     "name": "stdout",
     "output_type": "stream",
     "text": [
      "food\n"
     ]
    }
   ],
   "source": [
    "#Select the right option to check whether the term “food” is present in the sentence given below:\n",
    "t = \"food\"\n",
    "s = \"Shoppers buy more junk food when they bring their own bags\"\n",
    "oo = re.search(t,s)\n",
    "print(oo.group(0))"
   ]
  },
  {
   "cell_type": "code",
   "execution_count": 30,
   "metadata": {},
   "outputs": [
    {
     "name": "stdout",
     "output_type": "stream",
     "text": [
      "['2011']\n"
     ]
    }
   ],
   "source": [
    "#Which is the right option to extract the year from the following sentence:\n",
    "\n",
    "line = \"South Sudan declared independence from Sudan on 09 July 2011\"\n",
    "pattern = \"\\d{4}\"\n",
    "mo = re.findall(pattern,line) # note this can also be written as mo = re.findall(\"\\d{4},line)\n",
    "print (mo)"
   ]
  },
  {
   "cell_type": "code",
   "execution_count": 31,
   "metadata": {},
   "outputs": [
    {
     "data": {
      "text/plain": [
       "'My laptop has a 16gb of RAM'"
      ]
     },
     "execution_count": 31,
     "metadata": {},
     "output_type": "execute_result"
    }
   ],
   "source": [
    "#Select the correct option to replace '4' with '16' in the sentence below:\n",
    "\n",
    "sentence=\"My laptop has a 4gb of RAM\"\n",
    "re.sub('4','16',sentence)\n"
   ]
  },
  {
   "cell_type": "code",
   "execution_count": 39,
   "metadata": {},
   "outputs": [
    {
     "name": "stdout",
     "output_type": "stream",
     "text": [
      "<_sre.SRE_Match object; span=(14, 50), match='training_queries@analyticsvidhya.com'>\n"
     ]
    }
   ],
   "source": [
    "#What is the correct pattern to extract the email 'training_queries@analyticsvidhya.com' from the following string?\n",
    "\n",
    "skip=\"true\"\n",
    "string = \"Contact us on training_queries@analyticsvidhya.com\" \n",
    "#pattern = ([\\w.-]+)@([\\w.-]+)\n",
    "#pattern =([\\w.-]+)@([\\w.-]+)\n",
    "pattern ='\\S+@\\S+'\n",
    "\n",
    "match = re.search(pattern, string)\n",
    "\n",
    "print(match)"
   ]
  },
  {
   "cell_type": "code",
   "execution_count": null,
   "metadata": {
    "collapsed": true
   },
   "outputs": [],
   "source": []
  }
 ],
 "metadata": {
  "kernelspec": {
   "display_name": "Python 3",
   "language": "python",
   "name": "python3"
  },
  "language_info": {
   "codemirror_mode": {
    "name": "ipython",
    "version": 3
   },
   "file_extension": ".py",
   "mimetype": "text/x-python",
   "name": "python",
   "nbconvert_exporter": "python",
   "pygments_lexer": "ipython3",
   "version": "3.6.8"
  }
 },
 "nbformat": 4,
 "nbformat_minor": 2
}
